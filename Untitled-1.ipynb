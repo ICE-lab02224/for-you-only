{
 "cells": [
  {
   "cell_type": "code",
   "execution_count": null,
   "metadata": {},
   "outputs": [],
   "source": [
    ".container {\n",
    "    width: 50rem;\n",
    "    height: 20rem;\n",
    "    position: relative;\n",
    "}\n",
    "\n",
    ".svg-container {\n",
    "    z-index: 2;\n",
    "    position: absolute;\n",
    "}\n",
    "\n",
    ".mo-container {\n",
    "    width: 100%;\n",
    "    height: 100%;\n",
    "}\n",
    "\n",
    ".line {\n",
    "    fill: none;\n",
    "    stroke: #ffffff;\n",
    "    stroke-width: 8;\n",
    "    stroke-linecap: round;\n",
    "    stroke-miterlimit: 10;\n",
    "}\n",
    "\n",
    ".lttr {\n",
    "    fill: #a5b9c7;\n",
    "}\n",
    "\n",
    ".sound {\n",
    "    position: fixed;\n",
    "    color: #a5b9c7;\n",
    "    font-size: 1.6rem;\n",
    "    bottom: 1rem;\n",
    "    right: 1rem;\n",
    "    text-decoration: underline;\n",
    "    cursor: default;\n",
    "}\n",
    "\n",
    ".sound--off {\n",
    "    text-decoration: line-through;\n",
    "}\n"
   ]
  }
 ],
 "metadata": {
  "language_info": {
   "name": "python"
  }
 },
 "nbformat": 4,
 "nbformat_minor": 2
}
